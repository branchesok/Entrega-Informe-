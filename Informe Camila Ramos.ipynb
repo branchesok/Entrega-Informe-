{
 "cells": [
  {
   "cell_type": "markdown",
   "id": "1f4fad31-0a79-4aeb-98ee-9ee1b72efc53",
   "metadata": {},
   "source": [
    "# Tesla Deaths Report\n"
   ]
  },
  {
   "cell_type": "markdown",
   "id": "d74779ea-54f0-4091-b5e9-b14b6d02d182",
   "metadata": {},
   "source": [
    "## Table Of Contents\n",
    "\n",
    "##### 1 Introduction & Summary \n",
    "##### 2 The Data Frame         \n",
    "##### 3 Methodology            \n",
    "##### 4 Results & Conclusions"
   ]
  },
  {
   "cell_type": "markdown",
   "id": "78adbc80-d725-4f2a-93bf-059c18e5a363",
   "metadata": {},
   "source": [
    "## 1.Introduction & Summary\n",
    "\n",
    "Since the appearance of the first Tesla car models in 2006, the company has managed to keep the public interested in each launch due to the amount of \"secrecy\" that the company tries to maintain to avoid unfair competition. After 16 years of presence in the market and since the appearance of the first Tesla models with Autopilot technology launched in 2015, the interest in these vehicles continues to grow and with it also increased speculation about the safety that these cars represent both for pilots, occupants and traffic in general.\n",
    "\n",
    "The goal of this report is to share data on traffic accidents involving Tesla cars and try to answer questions like \"Are these cars safe?\" \"Autopilot technology increases the risk of accidents?\" among others.\n"
   ]
  },
  {
   "cell_type": "markdown",
   "id": "52370718-261c-45cf-a88c-23c77add9f53",
   "metadata": {},
   "source": [
    "### 2.The Data Frame \n",
    "\n",
    "This data frame collects data on accidents that caused deaths and in which a Tesla vehicle was involved and provides relevant information such as the number of dead passengers and where they were traveling in the vehicle (if there were companions) as well as in which country it occurred. the accident and whether Autopilot was being used at the time of the accident.\n",
    "\n",
    "It also indicates if the accident caused the death of a pedestrian, cyclist or passengers of another vehicle.\n",
    "\n",
    "\n",
    "\n",
    "An example of the data used to prepare the report is provided below.\n",
    "\n",
    "- Example \n",
    "\n",
    "| year |    date    | country | state |                    description                   | deaths | tesla_driver | tesla_occupant | other_vehicle | cyclists_peds | model | autopilot_claimed | verified_tesla_autopilot_death | fars_nhtsa_case_filing | note | deceased_1 | deceased_3 | deceased_4 |\n",
    "|-----:|:----------:|--------:|------:|:------------------------------------------------:|:------:|-------------:|---------------:|--------------:|--------------:|------:|------------------:|-------------------------------:|-----------------------:|-----:|-----------:|-----------:|-----------:|\n",
    "| 2020 | 2020-09-17 |     USA |    GA | Tesla loses control and crashes into bus shel... |      1 |        False |          False |         False |          True |     3 |              True |                          False |                    NaN |  NaN |        NaN |        NaN |        NaN |\n",
    "| 2020 | 2020-09-12 |     USA |    CA |    Car lands on Tesla, other vehicle driver dies |      1 |        False |          False |          True |         False |   NaN |             False |                          False |                    NaN |  NaN |        NaN |        NaN |        NaN |\n",
    "| 2020 | 2020-09-06 |     USA |    IL | Tesla runs thru red light, crashes, driver di... |      1 |         True |          False |         False |         False |   NaN |             False |                          False |                    NaN |  NaN |        NaN |        NaN |        NaN |\n",
    "| 2020 | 2020-09-05 |   China |   NaN | Tesla crashes into crowd, 2 dead and several ... |      2 |        False |          False |         False |          True |     X |             False |                          False |                    NaN |  NaN |        NaN |        NaN |        NaN |"
   ]
  },
  {
   "cell_type": "markdown",
   "id": "ad6f5622-5f53-46ab-915a-4523e36f4917",
   "metadata": {},
   "source": [
    "- Df Info and Data Description\n",
    "\n",
    "| Colum number | Column Name                    | Data type |\n",
    "|--------------|--------------------------------|-----------|\n",
    "| 0            | year                           | float64   |\n",
    "| 1            | date                           | datetime  |\n",
    "| 2            | country                        | str       |\n",
    "| 3            | state                          | str       |\n",
    "| 4            | description                    | str       |\n",
    "| 5            | deaths                         | int64     |\n",
    "| 6            | tesla_driver                   | bool      |\n",
    "| 7            | tesla_occupant                 | bool      |\n",
    "| 8            | other_vehicle                  | bool      |\n",
    "| 9            | cyclists_peds                  | bool      |\n",
    "| 10           | tsla_cycl_peds                 | bool      |\n",
    "| 11           | model                          | str       |\n",
    "| 12           | autopilot_claimed              | bool      |\n",
    "| 13           | verified_tesla_autopilot_death | bool      |\n",
    "| 14           | source                         | str       |\n",
    "| 15           | fars_nhtsa_case_filing         | str       |\n",
    "| 16           | note                           | str       |\n",
    "| 17           | deceased_1                     | str       |\n",
    "| 18           | deceased_2                     | str       |\n",
    "| 19           | deceased_3                     | str       |\n",
    "| 20           | deceased_4                     | float64   |\n",
    "\n",
    "\n",
    "\n",
    "|       |        year |     deaths |\n",
    "|------:|------------:|-----------:|\n",
    "| count |  131.000000 | 131.000000 |\n",
    "|  mean | 2018.160305 |   1.137405 |\n",
    "|   std |    1.731237 |   0.406928 |\n",
    "|   min | 2013.000000 |   1.000000 |\n",
    "|   25% | 2017.000000 |   1.000000 |\n",
    "|   50% | 2019.000000 |   1.000000 |\n",
    "|   75% | 2019.000000 |   1.000000 |\n",
    "|   max | 2020.000000 |   3.000000 |\n",
    "|       |             |            |\n",
    "|       |             |            |\n"
   ]
  },
  {
   "cell_type": "markdown",
   "id": "876c6190-cf22-4f38-a8b9-5fedf7355c19",
   "metadata": {},
   "source": [
    "## 3.Methodology\n",
    "\n",
    "- Columns have been renamed and formatted as snake_case\n",
    "- An initial data cleanup is performed:\n",
    "- Removing those rows where the records were NaN or lacked relevant information for the analysis.\n",
    "- NaN values are replaced by 0 to generate Boolean-type columns for ease of analysis.\n",
    "- The following columns Tesla driver,Tesla occupant,Other vehicle,\n",
    "- Cyclists/ Peds and TSLA+cycl / peds to boolean type objects.\n",
    "- The values of the date column are formatted to objects of type datetime.\n",
    "- The years, countries and cities with the highest number of deaths are determined, as well as the % of deaths with  Autopilot claimed.\n"
   ]
  },
  {
   "cell_type": "markdown",
   "id": "6293b8f1-aafa-429e-a80f-af88add253d3",
   "metadata": {},
   "source": [
    "## 4.Results &Conclusions\n",
    "\n",
    "![](plot_2.png)\n",
    "\n"
   ]
  },
  {
   "cell_type": "markdown",
   "id": "c4093736-bc7b-41aa-86c9-5268779dea6a",
   "metadata": {},
   "source": [
    "**Graph 2** shows the increase in deaths in accidents with Tesla cars over the years, with 2019 being the year with the highest number of deaths."
   ]
  },
  {
   "cell_type": "markdown",
   "id": "1e026484-e271-4969-a677-7817de924b27",
   "metadata": {},
   "source": [
    "![](grafico_3.png)"
   ]
  },
  {
   "cell_type": "markdown",
   "id": "53e4f05b-96d8-441d-bed3-8a378744794c",
   "metadata": {},
   "source": [
    "**Graph 3** The largest number of deaths by Tesla occurred in the USA, this number is proportional to the number of cars sold in this country with respect to the rest of the countries that reported accidents"
   ]
  },
  {
   "cell_type": "markdown",
   "id": "b1611b5e-1a51-4b67-aa60-19756d9c7d62",
   "metadata": {},
   "source": [
    "##### **Table 1** : Number of deaths by State (USA only)\n",
    "\n",
    "| State | Death Qty |   |   |\n",
    "|-------|-----------|---|---|\n",
    "| CA    | 49        |   |   |\n",
    "| FL    | 17        |   |   |\n",
    "| OH    | 5         |   |   |\n",
    "| VA    | 3         |   |   |\n",
    "| NV    | 3         |   |   |\n",
    "| TX    | 3         |   |   |\n",
    "| GA    | 3         |   |   |\n",
    "| HI    | 3         |   |   |\n",
    "| IN    | 3         |   |   |\n",
    "| PA    | 2         |   |   |\n",
    "| AZ    | 2         |   |   |\n",
    "| NH    | 2         |   |   |\n",
    "| IL    | 2         |   |   |\n",
    "| IA    | 1         |   |   |\n",
    "| TN    | 1         |   |   |\n",
    "| DE    | 1         |   |   |\n",
    "| UT    | 1         |   |   |\n",
    "| MO    | 1         |   |   |\n",
    "|       |           |   |   |\n",
    "\n",
    "\n",
    "\n",
    "*48% of the deaths reported by Tesla in the USA belong to the state of California*"
   ]
  },
  {
   "cell_type": "markdown",
   "id": "97bbffb3-c141-49a0-ab7b-ee01d3aa553b",
   "metadata": {},
   "source": [
    "![](plot_4.png)"
   ]
  },
  {
   "cell_type": "markdown",
   "id": "ff36b998-13a4-46c1-a06e-02b958ecb90a",
   "metadata": {},
   "source": [
    "##### Table 2 : Number of deaths with Autopailot claimed\n",
    "\n",
    "| autopilot_claimed | Death Qty | %Of total |\n",
    "|-------------------|-----------|----------|\n",
    "| No                | 132       | 88%      |\n",
    "| Yes               | 17        | 11%      |\n",
    "\n",
    "\n",
    "As **Graph** 4 and **Table 2** indicate, only **11%** of deaths by Tesla were reported using Autopilot.\n",
    "\n",
    "With these data it can be concluded that the use of Autopilot is not directly related to deaths by Tesla"
   ]
  },
  {
   "cell_type": "markdown",
   "id": "5b8e3960-d604-4dfb-802f-21cef749689b",
   "metadata": {},
   "source": [
    "According to the questions posed at the beginning of this report, it can be inferred that the majority of deaths in accidents with Tesla cars are not caused by the use of Autopilot, so in principle this technology does not increase the risk of deaths by Tesla.\n",
    "\n",
    "Regarding the question about the safety of these vehicles, it is understood that the data analyzed is not decisive for the safety of these vehicles, since accidents can be caused by pedestrians, cyclists or drivers of other vehicles."
   ]
  },
  {
   "cell_type": "code",
   "execution_count": null,
   "id": "332fae30-d29f-4443-bbe7-6d92682253e6",
   "metadata": {},
   "outputs": [],
   "source": []
  }
 ],
 "metadata": {
  "kernelspec": {
   "display_name": "Python 3",
   "language": "python",
   "name": "python3"
  },
  "language_info": {
   "codemirror_mode": {
    "name": "ipython",
    "version": 3
   },
   "file_extension": ".py",
   "mimetype": "text/x-python",
   "name": "python",
   "nbconvert_exporter": "python",
   "pygments_lexer": "ipython3",
   "version": "3.8.8"
  }
 },
 "nbformat": 4,
 "nbformat_minor": 5
}
